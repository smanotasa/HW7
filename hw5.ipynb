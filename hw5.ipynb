{
 "cells": [
  {
   "cell_type": "code",
   "execution_count": 5,
   "metadata": {},
   "outputs": [],
   "source": [
    "from cruasan.load_data.load_data import load_data\n",
    "from cruasan.data_cleanup.data_cleanup import fill_mean, drop_nan\n",
    "from cruasan.features.features import gen_bin, gen_dummy\n",
    "from cruasan.split_data.split_data import split_data\n",
    "from cruasan.train_model.train_model import train_model, pred\n",
    "from cruasan.score.score import roc_score"
   ]
  },
  {
   "cell_type": "code",
   "execution_count": 3,
   "metadata": {},
   "outputs": [],
   "source": [
    "from cruasan.data_cleanup.data_cleanup import fill_mean, drop_nan"
   ]
  },
  {
   "cell_type": "code",
   "execution_count": 6,
   "metadata": {},
   "outputs": [],
   "source": [
    "#Load data\n",
    "df = load_data('sample_diabetes_mellitus_data.csv')"
   ]
  },
  {
   "cell_type": "code",
   "execution_count": null,
   "metadata": {},
   "outputs": [],
   "source": [
    "#Drop NaN\n",
    "df = drop_nan(['age', 'gender', 'ethnicity'], df)\n",
    "\n",
    "#Fill mean\n",
    "df = fill_mean(df, 'height')\n",
    "df = fill_mean(df, 'weight')"
   ]
  },
  {
   "cell_type": "code",
   "execution_count": null,
   "metadata": {},
   "outputs": [],
   "source": [
    "df.isnull().sum()"
   ]
  },
  {
   "cell_type": "code",
   "execution_count": null,
   "metadata": {},
   "outputs": [],
   "source": [
    "#Generate dummies\n",
    "df = gen_dummy(df,['ethnicity'])\n",
    "\n",
    "#Generate binary\n",
    "df= gen_bin(df,['gender'])"
   ]
  },
  {
   "cell_type": "code",
   "execution_count": null,
   "metadata": {},
   "outputs": [],
   "source": [
    "#Split data\n",
    "y = df['diabetes_mellitus'].reset_index(drop=True)\n",
    "X = df.iloc[:len(y), :]\n",
    "\n",
    "X_train, X_test, y_train, y_test = split_data(X,y)"
   ]
  },
  {
   "cell_type": "code",
   "execution_count": null,
   "metadata": {},
   "outputs": [],
   "source": [
    "#Train model\n",
    "cols = ['age','height','weight','aids','cirrhosis','hepatic_failure','immunosuppression','leukemia','lymphoma','solid_tumor_with_metastasis']\n",
    "X_train, y_train = train_model(X_train[cols], y_train)"
   ]
  },
  {
   "cell_type": "code",
   "execution_count": null,
   "metadata": {},
   "outputs": [],
   "source": [
    "#Predict\n",
    "X_test = X_test[cols]\n",
    "X_train, X_test, train_pred, test_pred = pred(X_train, X_test)"
   ]
  },
  {
   "cell_type": "code",
   "execution_count": null,
   "metadata": {},
   "outputs": [],
   "source": [
    "#Train and test roc_auc\n",
    "score_train, score_test = roc_score(train_pred, y_train,test_pred, y_test)"
   ]
  },
  {
   "cell_type": "code",
   "execution_count": null,
   "metadata": {},
   "outputs": [],
   "source": [
    "score_train"
   ]
  },
  {
   "cell_type": "code",
   "execution_count": null,
   "metadata": {},
   "outputs": [],
   "source": [
    "score_test"
   ]
  }
 ],
 "metadata": {
  "kernelspec": {
   "display_name": "Python 3.9.12 ('perro')",
   "language": "python",
   "name": "python3"
  },
  "language_info": {
   "codemirror_mode": {
    "name": "ipython",
    "version": 3
   },
   "file_extension": ".py",
   "mimetype": "text/x-python",
   "name": "python",
   "nbconvert_exporter": "python",
   "pygments_lexer": "ipython3",
   "version": "3.9.12"
  },
  "orig_nbformat": 4,
  "vscode": {
   "interpreter": {
    "hash": "9f6801e07aca35243f36f2e82572e0b05e4784116c5257d26810aa12aac53440"
   }
  }
 },
 "nbformat": 4,
 "nbformat_minor": 2
}
